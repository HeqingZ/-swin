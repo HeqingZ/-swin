{
  "cells": [
    {
      "cell_type": "markdown",
      "metadata": {
        "id": "view-in-github",
        "colab_type": "text"
      },
      "source": [
        "<a href=\"https://colab.research.google.com/github/HeqingZ/-swin/blob/main/MviTv2_Debug.ipynb\" target=\"_parent\"><img src=\"https://colab.research.google.com/assets/colab-badge.svg\" alt=\"Open In Colab\"/></a>"
      ]
    },
    {
      "cell_type": "code",
      "execution_count": 2,
      "metadata": {
        "colab": {
          "base_uri": "https://localhost:8080/"
        },
        "id": "vKbBlRMA-CQq",
        "outputId": "33fbe2bf-aec0-430a-ea71-0647f3f0d245"
      },
      "outputs": [
        {
          "output_type": "stream",
          "name": "stdout",
          "text": [
            "Mounted at /content/drive/\n"
          ]
        }
      ],
      "source": [
        "from google.colab import drive\n",
        "drive.mount(\"/content/drive/\")"
      ]
    },
    {
      "cell_type": "code",
      "execution_count": null,
      "metadata": {
        "colab": {
          "base_uri": "https://localhost:8080/"
        },
        "id": "6QMNjsut5Da4",
        "outputId": "be133b7a-6307-4ae7-a46f-0b4431232396"
      },
      "outputs": [
        {
          "output_type": "stream",
          "name": "stdout",
          "text": [
            "Looking in indexes: https://pypi.org/simple, https://us-python.pkg.dev/colab-wheels/public/simple/\n",
            "Collecting pyyaml==5.3.1\n",
            "  Downloading PyYAML-5.3.1.tar.gz (269 kB)\n",
            "\u001b[K     |████████████████████████████████| 269 kB 14.8 MB/s \n",
            "\u001b[?25hBuilding wheels for collected packages: pyyaml\n",
            "  Building wheel for pyyaml (setup.py) ... \u001b[?25l\u001b[?25hdone\n",
            "  Created wheel for pyyaml: filename=PyYAML-5.3.1-cp37-cp37m-linux_x86_64.whl size=44636 sha256=ee1382f25636d18cad1729c5dfb337c8cb788e3bc4be6e773853787117ecfae7\n",
            "  Stored in directory: /root/.cache/pip/wheels/5e/03/1e/e1e954795d6f35dfc7b637fe2277bff021303bd9570ecea653\n",
            "Successfully built pyyaml\n",
            "Installing collected packages: pyyaml\n",
            "  Attempting uninstall: pyyaml\n",
            "    Found existing installation: PyYAML 6.0\n",
            "    Uninstalling PyYAML-6.0:\n",
            "      Successfully uninstalled PyYAML-6.0\n",
            "Successfully installed pyyaml-5.3.1\n",
            "Looking in indexes: https://pypi.org/simple, https://us-python.pkg.dev/colab-wheels/public/simple/\n",
            "Requirement already satisfied: click in /usr/local/lib/python3.7/dist-packages (7.1.2)\n",
            "Looking in indexes: https://pypi.org/simple, https://us-python.pkg.dev/colab-wheels/public/simple/\n",
            "Collecting git+https://github.com/facebookresearch/detectron2.git\n",
            "  Cloning https://github.com/facebookresearch/detectron2.git to /tmp/pip-req-build-dzobbw9_\n",
            "  Running command git clone -q https://github.com/facebookresearch/detectron2.git /tmp/pip-req-build-dzobbw9_\n"
          ]
        }
      ],
      "source": [
        "#install detectron2\n",
        "#the detectron2 package requires pyyaml version > 5.3 \n",
        "!python -m pip install pyyaml==5.3.1\n",
        "!pip install click\n",
        "!python -m pip install 'git+https://github.com/facebookresearch/detectron2.git'"
      ]
    },
    {
      "cell_type": "code",
      "execution_count": null,
      "metadata": {
        "id": "qOhPsuS8-erv"
      },
      "outputs": [],
      "source": [
        "#import some important utilities of Detectron2\n",
        "import torch, detectron2\n",
        "!nvcc --version\n",
        "TORCH_VERSION = \".\".join(torch.__version__.split(\".\")[:2])\n",
        "CUDA_VERSION = torch.__version__.split(\"+\")[-1]\n",
        "print(\"torch: \", TORCH_VERSION, \"; cuda: \", CUDA_VERSION)\n",
        "print(\"detectron2:\", detectron2.__version__)"
      ]
    },
    {
      "cell_type": "code",
      "execution_count": null,
      "metadata": {
        "id": "cGLjmymY-fcT"
      },
      "outputs": [],
      "source": [
        "# Some basic setup:\n",
        "# Setup detectron2 logger\n",
        "import detectron2\n",
        "from detectron2.utils.logger import setup_logger\n",
        "setup_logger()\n",
        "\n",
        "# import some common libraries\n",
        "import numpy as np\n",
        "import os, json, cv2, random\n",
        "from google.colab.patches import cv2_imshow\n",
        "\n",
        "# import some common detectron2 utilities\n",
        "from detectron2 import model_zoo\n",
        "from detectron2.engine import DefaultPredictor\n",
        "from detectron2.config import get_cfg\n",
        "from detectron2.utils.visualizer import Visualizer\n",
        "from detectron2.data import MetadataCatalog, DatasetCatalog\n",
        "#import features for the bbox\n",
        "import numpy as np\n",
        "import cv2\n",
        "import matplotlib.pyplot as plt\n",
        "from google.colab.patches import cv2_imshow\n",
        "\n",
        "from detectron2.structures import BoxMode"
      ]
    },
    {
      "cell_type": "markdown",
      "metadata": {
        "id": "EaopVM2M-KwW"
      },
      "source": []
    },
    {
      "cell_type": "markdown",
      "metadata": {
        "id": "87gky1bjruTp"
      },
      "source": [
        "# Load config from mvit repo\n",
        "https://github.com/facebookresearch/detectron2/tree/main/projects/MViTv2\n"
      ]
    },
    {
      "cell_type": "code",
      "execution_count": null,
      "metadata": {
        "id": "-Gn0qYUwrt8y"
      },
      "outputs": [],
      "source": [
        "# Load original classification repo\n",
        "!pip install timm\n",
        "!git clone https://github.com/facebookresearch/mvit.git mvit\n",
        "!curl -OL  https://github.com/facebookresearch/detectron2/blob/717ab9f0aeca216a2f800e43d705766251ba3a55/projects/MViTv2/configs/mask_rcnn_mvitv2_t_3x.pth # pretrained\n",
        "\n",
        "# Load repo that related to detectron2\n",
        "\n",
        "!python -m pip install -e mvit\n",
        "# !cfg.python tools/main.py \\\n",
        "#   --cfg configs/MViTv2_T.yaml \\\n",
        "#   DATA.PATH_TO_DATA_DIR /content/drive/MyDrive/FLIR_THERMAL/train \\\n",
        "#   NUM_GPUS 8 \\\n",
        "#   TRAIN.BATCH_SIZE 512 \\\n"
      ]
    },
    {
      "cell_type": "markdown",
      "metadata": {
        "id": "GPn53IPE-Njt"
      },
      "source": [
        "**MVIT-Detectron2 Codes =============================================**\n",
        "\n"
      ]
    },
    {
      "cell_type": "code",
      "execution_count": null,
      "metadata": {
        "id": "LccFSFhl-NQV"
      },
      "outputs": [],
      "source": [
        "!rm -r mvit_detectron2\n",
        "!git clone https://github.com/jb2849/mvit_set.git mvit_detectron2"
      ]
    },
    {
      "cell_type": "markdown",
      "metadata": {
        "id": "jmSBz1Xj-Mud"
      },
      "source": [
        "**MVIT-Detectron2 Codes =============================================**"
      ]
    },
    {
      "cell_type": "code",
      "execution_count": null,
      "metadata": {
        "id": "1dH_to22PPj2"
      },
      "outputs": [],
      "source": [
        "####\n",
        "# Train Here\n",
        "####\n",
        "!python mvit_detectron2/lazyconfig_train_net.py --config-file mvit_detectron2/flir_config_3x.py --resume"
      ]
    },
    {
      "cell_type": "code",
      "execution_count": null,
      "metadata": {
        "id": "tj5tB1yvaDTK"
      },
      "outputs": [],
      "source": [
        "### Testing\n",
        "\n",
        "!python ./mvit_detectron2/lazyconfig_train_net.py --config-file ./mvit_detectron2/flir_config_3x.py --eval-only train.init_checkpoint=./drive/MyDrive/mvitv2Debug/model_0004999.pth"
      ]
    }
  ],
  "metadata": {
    "accelerator": "GPU",
    "colab": {
      "background_execution": "on",
      "collapsed_sections": [],
      "provenance": [],
      "authorship_tag": "ABX9TyP7lHDjEKr00fSQHJ4ZJ0Ja",
      "include_colab_link": true
    },
    "gpuClass": "standard",
    "kernelspec": {
      "display_name": "Python 3",
      "name": "python3"
    },
    "language_info": {
      "name": "python"
    }
  },
  "nbformat": 4,
  "nbformat_minor": 0
}